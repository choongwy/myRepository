{
  "metadata": {
    "kernelspec": {
      "name": "python",
      "display_name": "Python (Pyodide)",
      "language": "python"
    },
    "language_info": {
      "codemirror_mode": {
        "name": "python",
        "version": 3
      },
      "file_extension": ".py",
      "mimetype": "text/x-python",
      "name": "python",
      "nbconvert_exporter": "python",
      "pygments_lexer": "ipython3",
      "version": "3.8"
    }
  },
  "nbformat_minor": 4,
  "nbformat": 4,
  "cells": [
    {
      "cell_type": "markdown",
      "source": "<H1>My Jupyter Notebook on IBM Watson Studio</H1>",
      "metadata": {}
    },
    {
      "cell_type": "markdown",
      "source": "<B>Ren Choong</B><BR>Business Architect",
      "metadata": {}
    },
    {
      "cell_type": "markdown",
      "source": "<I>I am interested in data science since it is an interesting topic that may improve my profession in the future</I>",
      "metadata": {}
    },
    {
      "cell_type": "markdown",
      "source": "<H3>My code will perform the add operator of 1 plus 1 equals 2</H3>",
      "metadata": {}
    },
    {
      "cell_type": "code",
      "source": "1+1",
      "metadata": {
        "trusted": true
      },
      "execution_count": 8,
      "outputs": [
        {
          "execution_count": 8,
          "output_type": "execute_result",
          "data": {
            "text/plain": "2"
          },
          "metadata": {}
        }
      ]
    },
    {
      "cell_type": "markdown",
      "source": "<H3>Leveraging Jupyter Notebook on IBM Watson Studio, you will create your own Jupyter Notebook (in English) and share it via a public link.</H3>\n\n<HR>\n    \n> <B>Guidelines for the submission:</B>\n\n> Include at least 6 cells:\n<UL>\n    <LI>Cell 1 (rendered as Markdown): The title should be \"My Jupyter Notebook on IBM Watson Studio\", in H1 header styling. The title does not need to be centered.</LI>\n    <LI>Cell 2 (rendered as Markdown): Include your name, in bold characters. In the line below your name, write your current or desired occupation in regular font.</LI>\n    <LI>Cell 3 (rendered as Markdown): In italic formatting, write one or two sentences about why you are interested in data science. For example, you can start your first sentence with \"I am interested in data science because ...\".</LI>\n    <LI>Cell 4 (rendered as Markdown): In H3 header styling, explain in a short sentence what your code is supposed to do in Cell 5.</LI>\n    <LI>Cell 5 (code cell): Your code, as described in Cell 4. It must be executed and must display an output. Try to keep the code simple (it can even be \"1 + 1\").</LI>\n    <LI>Cell 6 (rendered as Markdown): Using Markdown or HTML, this cell must include at least 3 of the following: horizontal rule, bulleted list, numbered list, tables, hyperlinks, images, code/syntax highlighting, blocked quotes, strikethrough.</LI>\n</UL>  \n> The <B>main grading criteria</B> will be:\n<OL>\n    <LI>Is the notebook publicly viewable?</LI>\n    <LI>Are there, or does there appear to be, at least 5 Markdown cells and 1 code cell?</LI>\n    <LI>Is the criteria for each cell fulfilled, as described in the \"Guidelines for Submission\"?</LI>\n</OL>\n\n> You <B>will not be judged</B> on:\n<OL>\n    <LI>Your English language, including spelling or grammatical mistakes.</LI>\n    <LI>The content of any text or image(s) or where a link is hyperlinked to</LI>\n</OL>\n\n> For More information, please visit [IBM CLOUD WATSON](https://www.ibm.com/cloud/watson-studio)",
      "metadata": {}
    }
  ]
}